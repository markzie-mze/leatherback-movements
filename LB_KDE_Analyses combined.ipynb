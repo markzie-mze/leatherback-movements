{
 "cells": [
  {
   "cell_type": "markdown",
   "id": "623086f2",
   "metadata": {},
   "source": [
    "## Script for all analyses relating to leatherback KDE analyses\n",
    "\n",
    "  #### 1. Data preparation\n",
    "     a. Upload the data file\n",
    "     b. Delete surplus fields\n",
    "     c. Select location points within a radius\n",
    "     d. Export radius selection to new feature layer\n",
    "      \n",
    "  #### 2. KDE generation\n",
    "  #### 3. Quantiles"
   ]
  },
  {
   "cell_type": "markdown",
   "id": "1a9f160d",
   "metadata": {},
   "source": [
    "### 1. Data preparation"
   ]
  },
  {
   "cell_type": "markdown",
   "id": "f165534a",
   "metadata": {},
   "source": [
    "Upload the data file. Use the file: \"[turtle_name]-[turtleID#]-1-FastGPS.csv\"\n",
    "\n",
    "Data Management Tool:  XYTableToPoint"
   ]
  },
  {
   "cell_type": "code",
   "execution_count": null,
   "id": "ae2b396f",
   "metadata": {},
   "outputs": [],
   "source": [
    "arcpy.management.XYTableToPoint(\n",
    "    in_table=\"Queen Haevo-237820-1-FastGPS.csv\",\n",
    "    out_feature_class=r\"\\\\Mac\\Home\\Documents\\ArcGIS\\Projects\\Leatherback_KDEs\\Leatherback_KDEs.gdb\\QueenHaevo237820\",\n",
    "    x_field=\"Longitude\",\n",
    "    y_field=\"Latitude\",\n",
    "    z_field=None,\n",
    "    coordinate_system='GEOGCS[\"GCS_WGS_1984\",DATUM[\"D_WGS_1984\",SPHEROID[\"WGS_1984\",6378137.0,298.257223563]],PRIMEM[\"Greenwich\",0.0],UNIT[\"Degree\",0.0174532925199433]];-400 -400 1000000000;-100000 10000;-100000 10000;8.98315284119521E-09;0.001;0.001;IsHighPrecision'\n",
    ")\n"
   ]
  },
  {
   "cell_type": "markdown",
   "id": "4b5d287e",
   "metadata": {},
   "source": [
    "**Delete surplus fields from base Feature Layer generated from the \"[turtle_name]-[turtleID#]-1-FastGPS.csv\" files**\n",
    "\n",
    "Data Management Tool: _Delete Field_ (use Keep Fields method for required fields)"
   ]
  },
  {
   "cell_type": "code",
   "execution_count": null,
   "id": "be0e70f0",
   "metadata": {},
   "outputs": [],
   "source": [
    "arcpy.management.DeleteField(\n",
    "    in_table=\"QueenHaevo237820\", #replace \n",
    "    drop_field=\"Name;Day;Time;Hauled_Out;Latitude;Longitude\",\n",
    "    method=\"KEEP_FIELDS\")"
   ]
  },
  {
   "cell_type": "markdown",
   "id": "4e01b6d8",
   "metadata": {},
   "source": [
    "**Select all location points within a given radius around a nesting beach**\n",
    "\n",
    "Data Management Tool: _Select Layer by Location_"
   ]
  },
  {
   "cell_type": "code",
   "execution_count": null,
   "id": "eb9cfa29",
   "metadata": {},
   "outputs": [],
   "source": [
    "arcpy.management.SelectLayerByLocation(\n",
    "    in_layer=\"QueenHaevo237820\",\n",
    "    overlap_type=\"INTERSECT\",\n",
    "    select_features=\"HaevoBeach_reference\",\n",
    "    search_distance=\"100 Kilometers\",\n",
    "    selection_type=\"NEW_SELECTION\",\n",
    "    invert_spatial_relationship=\"NOT_INVERT\")"
   ]
  },
  {
   "cell_type": "markdown",
   "id": "675941c9",
   "metadata": {},
   "source": [
    "Export selected points from previous step to a new Feature Layer\n",
    "\n",
    "Conversion Tool: _ExportFeatures_"
   ]
  },
  {
   "cell_type": "code",
   "execution_count": null,
   "id": "1ce4391a",
   "metadata": {},
   "outputs": [],
   "source": [
    "arcpy.conversion.ExportFeatures(\n",
    "    in_features=\"QueenHaevo237820\",\n",
    "    out_features=r\"\\\\Mac\\Home\\Documents\\ArcGIS\\Projects\\Leatherback_KDEs\\Leatherback_KDEs.gdb\\QueenHaevo237820_100km\",\n",
    "    where_clause=\"\",\n",
    "    use_field_alias_as_name=\"NOT_USE_ALIAS\",\n",
    "    field_mapping='Name \"Name\" true true false 8000 Text 0 0,First,#,QueenHaevo237820,Name,0,8000;Day \"Day\" true true false 8000 Text 0 0,First,#,QueenHaevo237820,Day,0,8000;Time \"Time\" true true false 8000 Text 0 0,First,#,QueenHaevo237820,Time,0,8000;Hauled_Out \"Hauled Out\" true true false 4 Long 0 0,First,#,QueenHaevo237820,Hauled_Out,-1,-1;Latitude \"Latitude\" true true false 8 Double 0 0,First,#,QueenHaevo237820,Latitude,-1,-1;Longitude \"Longitude\" true true false 8 Double 0 0,First,#,QueenHaevo237820,Longitude,-1,-1',\n",
    "    sort_field=None)"
   ]
  },
  {
   "cell_type": "markdown",
   "id": "9034f04f",
   "metadata": {},
   "source": [
    "### 2. Generate Kernel Densities (KDE)\n",
    "\n",
    "Spatial Analyst Tool: _KernelDensity_"
   ]
  },
  {
   "cell_type": "code",
   "execution_count": null,
   "id": "01446f69",
   "metadata": {},
   "outputs": [],
   "source": [
    "out_raster = arcpy.sa.KernelDensity(\n",
    "    in_features=\"QueenHaevo237820_100km\",\n",
    "    population_field=\"NONE\",\n",
    "    cell_size=0.0005,\n",
    "    search_radius=28000,\n",
    "    area_unit_scale_factor=\"SQUARE_KILOMETERS\",\n",
    "    out_cell_values=\"DENSITIES\",\n",
    "    method=\"GEODESIC\",\n",
    "    in_barriers=\"Solomons_bound_100kmSimp\"\n",
    ")\n",
    "out_raster.save(r\"\\\\Mac\\Home\\Documents\\ArcGIS\\Projects\\Leatherback_KDEs\\Leatherback_KDEs.gdb\\QueenHaevoKDE_0005_28000\")"
   ]
  },
  {
   "cell_type": "markdown",
   "id": "9de557ff",
   "metadata": {},
   "source": [
    "### 3. Creating Quantiles at 50 & 95%\n",
    "\n",
    "Extract kernel density values for location points\n",
    "\n",
    "Spatial Analyst Tool: _ExtractValuesToPoints_"
   ]
  },
  {
   "cell_type": "code",
   "execution_count": null,
   "id": "91c223c8",
   "metadata": {},
   "outputs": [],
   "source": [
    "arcpy.sa.ExtractValuesToPoints(\n",
    "    in_point_features=\"QueenHaevo237820_100km\",\n",
    "    in_raster=\"QueenHaevoKDE_0005_28000\",\n",
    "    out_point_features=r\"\\\\Mac\\Home\\Documents\\ArcGIS\\Projects\\Leatherback_KDEs\\Leatherback_KDEs.gdb\\KDvalues_237820\",\n",
    "    interpolate_values=\"NONE\",\n",
    "    add_attributes=\"VALUE_ONLY\")"
   ]
  },
  {
   "cell_type": "markdown",
   "id": "6a8c4f5e",
   "metadata": {},
   "source": [
    "Reclassify to generate 50% quantile\n",
    "Spatial Analyst Tool: Reclassify"
   ]
  },
  {
   "cell_type": "code",
   "execution_count": null,
   "id": "551508b5",
   "metadata": {},
   "outputs": [],
   "source": [
    "out_raster = arcpy.sa.Reclassify(\n",
    "    in_raster=\"QueenHaevoKDE_0005_28000\",\n",
    "    reclass_field=\"VALUE\",\n",
    "    remap=\"0 0.194193 NODATA;0.194193 0.318456 50\",\n",
    "    missing_values=\"DATA\"\n",
    ")\n",
    "out_raster.save(r\"\\\\Mac\\Home\\Documents\\ArcGIS\\Projects\\Leatherback_KDEs\\Leatherback_KDEs.gdb\\HQ237820_50\")"
   ]
  },
  {
   "cell_type": "markdown",
   "id": "b0c3bf22",
   "metadata": {},
   "source": [
    "Reclassify to generate 95% quantile\n",
    "Spatial Analyst Tool: Reclassify"
   ]
  },
  {
   "cell_type": "code",
   "execution_count": null,
   "id": "17215d38",
   "metadata": {},
   "outputs": [],
   "source": [
    "out_raster = arcpy.sa.Reclassify(\n",
    "    in_raster=\"QueenHaevoKDE_0005_28000\",\n",
    "    reclass_field=\"VALUE\",\n",
    "    remap=\"0 0.043070 NODATA;0.043070 0.318456 95\",\n",
    "    missing_values=\"DATA\"\n",
    ")\n",
    "out_raster.save(r\"\\\\Mac\\Home\\Documents\\ArcGIS\\Projects\\Leatherback_KDEs\\Leatherback_KDEs.gdb\\HQ237820_95\")"
   ]
  }
 ],
 "metadata": {
  "kernelspec": {
   "display_name": "Python 3 (ipykernel)",
   "language": "python",
   "name": "python3"
  },
  "language_info": {
   "codemirror_mode": {
    "name": "ipython",
    "version": 3
   },
   "file_extension": ".py",
   "mimetype": "text/x-python",
   "name": "python",
   "nbconvert_exporter": "python",
   "pygments_lexer": "ipython3",
   "version": "3.9.12"
  }
 },
 "nbformat": 4,
 "nbformat_minor": 5
}
