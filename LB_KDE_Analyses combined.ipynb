{
 "cells": [
  {
   "cell_type": "markdown",
   "id": "c4c4178a",
   "metadata": {},
   "source": [
    "## Script for all analyses relating to leatherback KDE analyses\n",
    "\n",
    "   #### Includes data processing, KD generation, quantiles"
   ]
  },
  {
   "cell_type": "markdown",
   "id": "56934183",
   "metadata": {},
   "source": [
    "### Data preparation"
   ]
  },
  {
   "cell_type": "markdown",
   "id": "aefe4423",
   "metadata": {},
   "source": [
    "Upload the data file. Use the file: \"[turtle_name]-[turtleID#]-1-FastGPS.csv\""
   ]
  },
  {
   "cell_type": "code",
   "execution_count": null,
   "id": "7743d773",
   "metadata": {},
   "outputs": [],
   "source": [
    "arcpy.management.XYTableToPoint(\n",
    "    in_table=\"Queen Haevo-237820-1-FastGPS.csv\",\n",
    "    out_feature_class=r\"\\\\Mac\\Home\\Documents\\ArcGIS\\Projects\\Leatherback_KDEs\\Leatherback_KDEs.gdb\\QueenHaevo237820\",\n",
    "    x_field=\"Longitude\",\n",
    "    y_field=\"Latitude\",\n",
    "    z_field=None,\n",
    "    coordinate_system='GEOGCS[\"GCS_WGS_1984\",DATUM[\"D_WGS_1984\",SPHEROID[\"WGS_1984\",6378137.0,298.257223563]],PRIMEM[\"Greenwich\",0.0],UNIT[\"Degree\",0.0174532925199433]];-400 -400 1000000000;-100000 10000;-100000 10000;8.98315284119521E-09;0.001;0.001;IsHighPrecision'\n",
    ")\n"
   ]
  },
  {
   "cell_type": "code",
   "execution_count": null,
   "id": "f4b79197",
   "metadata": {},
   "outputs": [],
   "source": []
  },
  {
   "cell_type": "markdown",
   "id": "7911ec93",
   "metadata": {},
   "source": [
    "Delete surplus fields from base Feature Layer using FastlocGPS.csv files"
   ]
  },
  {
   "cell_type": "code",
   "execution_count": null,
   "id": "7220c963",
   "metadata": {},
   "outputs": [],
   "source": [
    "arcpy.management.DeleteField(\n",
    "    in_table=\"QueenHaevo237820\", #replace \n",
    "    drop_field=\"Name;Day;Time;Hauled_Out;Latitude;Longitude\",\n",
    "    method=\"KEEP_FIELDS\")"
   ]
  },
  {
   "cell_type": "code",
   "execution_count": null,
   "id": "fae98f4e",
   "metadata": {},
   "outputs": [],
   "source": []
  },
  {
   "cell_type": "code",
   "execution_count": null,
   "id": "673bfd49",
   "metadata": {},
   "outputs": [],
   "source": []
  },
  {
   "cell_type": "code",
   "execution_count": null,
   "id": "3f9b8c25",
   "metadata": {},
   "outputs": [],
   "source": []
  },
  {
   "cell_type": "code",
   "execution_count": null,
   "id": "e964d9fe",
   "metadata": {},
   "outputs": [],
   "source": []
  }
 ],
 "metadata": {
  "kernelspec": {
   "display_name": "Python 3 (ipykernel)",
   "language": "python",
   "name": "python3"
  },
  "language_info": {
   "codemirror_mode": {
    "name": "ipython",
    "version": 3
   },
   "file_extension": ".py",
   "mimetype": "text/x-python",
   "name": "python",
   "nbconvert_exporter": "python",
   "pygments_lexer": "ipython3",
   "version": "3.9.12"
  }
 },
 "nbformat": 4,
 "nbformat_minor": 5
}
